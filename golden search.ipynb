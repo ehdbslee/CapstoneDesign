{
 "cells": [
  {
   "cell_type": "code",
   "execution_count": 10,
   "id": "a5a701e8",
   "metadata": {},
   "outputs": [
    {
     "data": {
      "text/plain": [
       "<torch._C.Generator at 0x217efccc7f0>"
      ]
     },
     "execution_count": 10,
     "metadata": {},
     "output_type": "execute_result"
    }
   ],
   "source": [
    "import torch\n",
    "import torchvision\n",
    "import torchvision.transforms as transforms\n",
    "import torchvision.datasets as datasets\n",
    "import torch.nn as nn\n",
    "import torch.nn.functional as F\n",
    "import matplotlib.pyplot as plt\n",
    "import numpy as np\n",
    "from torch.autograd import Variable\n",
    "\n",
    "torch.manual_seed(0)"
   ]
  },
  {
   "cell_type": "code",
   "execution_count": 11,
   "id": "b525722f",
   "metadata": {},
   "outputs": [],
   "source": [
    "batch_size = 8\n",
    "learning_rate = 0.002\n",
    "num_epochs = 800"
   ]
  },
  {
   "cell_type": "code",
   "execution_count": 12,
   "id": "599e84e5",
   "metadata": {},
   "outputs": [],
   "source": [
    "normal_dir = 'C:\\\\Users\\\\WorkStation\\\\Desktop\\\\CAE_dataset\\\\normal'\n",
    "abnormal_dir = 'C:\\\\Users\\\\WorkStation\\\\Desktop\\\\CAE_dataset\\\\abnormal3'\n",
    "\n",
    "normal_set = datasets.ImageFolder(\n",
    "    normal_dir,\n",
    "    transforms.Compose([\n",
    "        transforms.Resize((224, 224)),\n",
    "        transforms.ToTensor()\n",
    "    ])\n",
    ")\n",
    "\n",
    "abnormal_set = datasets.ImageFolder(\n",
    "    abnormal_dir,\n",
    "    transforms.Compose([\n",
    "        transforms.Resize((224, 224)),\n",
    "        transforms.ToTensor()\n",
    "    ])\n",
    ")\n",
    "\n",
    "train_set, test_set = torch.utils.data.random_split(normal_set, [len(normal_set) - 50, 50])\n",
    "\n",
    "train_loader = torch.utils.data.DataLoader(train_set, batch_size=batch_size)\n",
    "test_loader = torch.utils.data.DataLoader(test_set, batch_size=batch_size,shuffle=True)\n",
    "normal_loader = torch.utils.data.DataLoader(normal_set, batch_size=batch_size, shuffle=True)\n",
    "abnormal_loader = torch.utils.data.DataLoader(abnormal_set, batch_size=batch_size,shuffle=True)"
   ]
  },
  {
   "cell_type": "code",
   "execution_count": 13,
   "id": "58a3721e",
   "metadata": {},
   "outputs": [],
   "source": [
    "class ConvAutoEncoder(nn.Module):\n",
    "    def __init__(self):\n",
    "        super(ConvAutoEncoder, self).__init__()\n",
    "        \n",
    "        # Encoder\n",
    "        self.cnn_layer1 = nn.Sequential(\n",
    "                        nn.Conv2d(3, 16, kernel_size=3, stride=1, padding=1),\n",
    "                        nn.ReLU(),\n",
    "                         nn.MaxPool2d(2,2))\n",
    "\n",
    "        self.cnn_layer2 = nn.Sequential(\n",
    "                                nn.Conv2d(16, 32, kernel_size=3, stride=1, padding=1),\n",
    "                                nn.ReLU(),\n",
    "                                 nn.MaxPool2d(2,2))\n",
    "        \n",
    "        self.cnn_layer3 = nn.Sequential(\n",
    "                                nn.Conv2d(32, 64, kernel_size=3, stride=1, padding=1),\n",
    "                                nn.ReLU(),\n",
    "                                 nn.MaxPool2d(2,2))\n",
    "\n",
    "        # Decoder        \n",
    "        self.tran_cnn_layer1 = nn.Sequential(\n",
    "                        nn.ConvTranspose2d(64, 32, kernel_size = 2, stride = 2, padding=0),\n",
    "                        nn.ReLU())\n",
    "        \n",
    "        self.tran_cnn_layer2 = nn.Sequential(\n",
    "                        nn.ConvTranspose2d(32, 16, kernel_size = 2, stride = 2, padding=0),\n",
    "                        nn.ReLU())\n",
    "\n",
    "        self.tran_cnn_layer3 = nn.Sequential(\n",
    "                        nn.ConvTranspose2d(16, 3, kernel_size = 2, stride = 2, padding=0),\n",
    "                        nn.Sigmoid())\n",
    "            \n",
    "            \n",
    "    def forward(self, x):\n",
    "        output = self.cnn_layer1(x)\n",
    "        output = self.cnn_layer2(output)\n",
    "        output = self.cnn_layer3(output)        \n",
    "        output = self.tran_cnn_layer1(output)\n",
    "        output = self.tran_cnn_layer2(output)\n",
    "        output = self.tran_cnn_layer3(output)\n",
    "\n",
    "        return output"
   ]
  },
  {
   "cell_type": "code",
   "execution_count": 14,
   "id": "ba7150c6",
   "metadata": {},
   "outputs": [],
   "source": [
    "model = ConvAutoEncoder()\n",
    "model.load_state_dict(torch.load('best_model_final.pth'))\n",
    "criterion = nn.MSELoss()"
   ]
  },
  {
   "cell_type": "code",
   "execution_count": 15,
   "id": "2c38c2f0",
   "metadata": {},
   "outputs": [
    {
     "data": {
      "text/plain": [
       "0.0011706234052549184"
      ]
     },
     "execution_count": 15,
     "metadata": {},
     "output_type": "execute_result"
    }
   ],
   "source": [
    "import math\n",
    "\n",
    "def myEquation4(x):\n",
    "    \n",
    "    normal_err = 0\n",
    "    abnormal_err = 0\n",
    "    \n",
    "    for i, (X_normal, _) in enumerate(normal_loader):\n",
    "        output = model(X_normal)\n",
    "        loss = criterion(X_normal, output)\n",
    "        \n",
    "        if loss.item() > x:\n",
    "            normal_err += 1\n",
    "        \n",
    "    for i, (X_abnormal, _) in enumerate(abnormal_loader):\n",
    "        output = model(X_abnormal)\n",
    "        loss = criterion(X_abnormal, output)\n",
    "        \n",
    "        if loss.item() < x:\n",
    "            abnormal_err += 1\n",
    "      \n",
    "    err = ((normal_err/len(normal_loader)) + (abnormal_err/len(abnormal_loader)))/2.0\n",
    "    \n",
    "    return err\n",
    "\n",
    "gr = (math.sqrt(5) + 1) / 2\n",
    "\n",
    "def gss(f, a, b, tol=1e-7):\n",
    "    c = b - (b - a) / gr\n",
    "    d = a + (b - a) / gr\n",
    "    while abs(b - a) > tol:\n",
    "        if f(c) < f(d):\n",
    "            b = d\n",
    "        else:\n",
    "            a = c\n",
    "\n",
    "        # We recompute both c and d here to avoid loss of precision which may lead to incorrect results or infinite loop\n",
    "        c = b - (b - a) / gr\n",
    "        d = a + (b - a) / gr\n",
    "\n",
    "    return (b + a) / 2\n",
    "\n",
    "gss(myEquation4, 0.0005, 0.0015)"
   ]
  },
  {
   "cell_type": "code",
   "execution_count": 17,
   "id": "4fa31848",
   "metadata": {},
   "outputs": [
    {
     "data": {
      "text/plain": [
       "0.004010695187165776"
      ]
     },
     "execution_count": 17,
     "metadata": {},
     "output_type": "execute_result"
    }
   ],
   "source": [
    "myEquation4(0.0011706234052549184)"
   ]
  },
  {
   "cell_type": "code",
   "execution_count": null,
   "id": "dd084bd9",
   "metadata": {},
   "outputs": [],
   "source": []
  }
 ],
 "metadata": {
  "kernelspec": {
   "display_name": "Python 3",
   "language": "python",
   "name": "python3"
  },
  "language_info": {
   "codemirror_mode": {
    "name": "ipython",
    "version": 3
   },
   "file_extension": ".py",
   "mimetype": "text/x-python",
   "name": "python",
   "nbconvert_exporter": "python",
   "pygments_lexer": "ipython3",
   "version": "3.8.8"
  }
 },
 "nbformat": 4,
 "nbformat_minor": 5
}
