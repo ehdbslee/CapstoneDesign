{
 "cells": [
  {
   "cell_type": "code",
   "execution_count": 1,
   "id": "a5a701e8",
   "metadata": {},
   "outputs": [
    {
     "data": {
      "text/plain": [
       "<torch._C.Generator at 0x219281d29d0>"
      ]
     },
     "execution_count": 1,
     "metadata": {},
     "output_type": "execute_result"
    }
   ],
   "source": [
    "import torch\n",
    "import torchvision\n",
    "import torchvision.transforms as transforms\n",
    "import torchvision.datasets as datasets\n",
    "import torch.nn as nn\n",
    "import torch.nn.functional as F\n",
    "import matplotlib.pyplot as plt\n",
    "import numpy as np\n",
    "from torch.autograd import Variable\n",
    "\n",
    "torch.manual_seed(0)"
   ]
  },
  {
   "cell_type": "code",
   "execution_count": 2,
   "id": "b525722f",
   "metadata": {},
   "outputs": [],
   "source": [
    "device = torch.device('cuda') if torch.cuda.is_available() else torch.device('cpu')\n",
    "\n",
    "batch_size = 1\n",
    "\n",
    "data_size = [100, 300, 600, 900, 1200, 1500]\n",
    "\n",
    "#normal_dir = 'C:\\\\Users\\\\WorkStation\\\\Desktop\\\\캡디이미지\\\\CNN_dataset300\\\\normal'\n",
    "#abnormal_dir = 'C:\\\\Users\\\\WorkStation\\\\Desktop\\\\캡디이미지\\\\CNN_dataset300\\\\abnormal'\n",
    "\n",
    "normal_dir = 'C:\\\\Users\\\\WorkStation\\\\Desktop\\\\캡디이미지\\\\CAE_dataset\\\\normal'\n",
    "abnormal_dir = 'C:\\\\Users\\\\WorkStation\\\\Desktop\\\\캡디이미지\\\\CAE_dataset\\\\abnormal'\n",
    "\n",
    "BEST_MODEL_PATH = 'CAE_best_model.pth'"
   ]
  },
  {
   "cell_type": "code",
   "execution_count": 3,
   "id": "599e84e5",
   "metadata": {},
   "outputs": [],
   "source": [
    "normal_set = datasets.ImageFolder(\n",
    "    normal_dir,\n",
    "    transforms.Compose([\n",
    "        transforms.Resize((224, 224)),\n",
    "        transforms.ToTensor()\n",
    "    ])\n",
    ")\n",
    "\n",
    "abnormal_set = datasets.ImageFolder(\n",
    "    abnormal_dir,\n",
    "    transforms.Compose([\n",
    "        transforms.Resize((224, 224)),\n",
    "        transforms.ToTensor()\n",
    "    ])\n",
    ")"
   ]
  },
  {
   "cell_type": "code",
   "execution_count": 4,
   "id": "58a3721e",
   "metadata": {},
   "outputs": [
    {
     "data": {
      "text/plain": [
       "ConvAutoEncoder(\n",
       "  (cnn_layer1): Sequential(\n",
       "    (0): Conv2d(3, 16, kernel_size=(3, 3), stride=(1, 1), padding=(1, 1))\n",
       "    (1): ReLU()\n",
       "    (2): MaxPool2d(kernel_size=2, stride=2, padding=0, dilation=1, ceil_mode=False)\n",
       "  )\n",
       "  (cnn_layer2): Sequential(\n",
       "    (0): Conv2d(16, 32, kernel_size=(3, 3), stride=(1, 1), padding=(1, 1))\n",
       "    (1): ReLU()\n",
       "    (2): MaxPool2d(kernel_size=2, stride=2, padding=0, dilation=1, ceil_mode=False)\n",
       "  )\n",
       "  (cnn_layer3): Sequential(\n",
       "    (0): Conv2d(32, 64, kernel_size=(3, 3), stride=(1, 1), padding=(1, 1))\n",
       "    (1): ReLU()\n",
       "    (2): MaxPool2d(kernel_size=2, stride=2, padding=0, dilation=1, ceil_mode=False)\n",
       "  )\n",
       "  (tran_cnn_layer1): Sequential(\n",
       "    (0): ConvTranspose2d(64, 32, kernel_size=(2, 2), stride=(2, 2))\n",
       "    (1): ReLU()\n",
       "  )\n",
       "  (tran_cnn_layer2): Sequential(\n",
       "    (0): ConvTranspose2d(32, 16, kernel_size=(2, 2), stride=(2, 2))\n",
       "    (1): ReLU()\n",
       "  )\n",
       "  (tran_cnn_layer3): Sequential(\n",
       "    (0): ConvTranspose2d(16, 3, kernel_size=(2, 2), stride=(2, 2))\n",
       "    (1): Sigmoid()\n",
       "  )\n",
       ")"
      ]
     },
     "execution_count": 4,
     "metadata": {},
     "output_type": "execute_result"
    }
   ],
   "source": [
    "class ConvAutoEncoder(nn.Module):\n",
    "    def __init__(self):\n",
    "        super(ConvAutoEncoder, self).__init__()\n",
    "        \n",
    "        # Encoder\n",
    "        self.cnn_layer1 = nn.Sequential(\n",
    "                        nn.Conv2d(3, 16, kernel_size=3, stride=1, padding=1),\n",
    "                        nn.ReLU(),\n",
    "                         nn.MaxPool2d(2,2))\n",
    "\n",
    "        self.cnn_layer2 = nn.Sequential(\n",
    "                                nn.Conv2d(16, 32, kernel_size=3, stride=1, padding=1),\n",
    "                                nn.ReLU(),\n",
    "                                 nn.MaxPool2d(2,2))\n",
    "        \n",
    "        self.cnn_layer3 = nn.Sequential(\n",
    "                                nn.Conv2d(32, 64, kernel_size=3, stride=1, padding=1),\n",
    "                                nn.ReLU(),\n",
    "                                 nn.MaxPool2d(2,2))\n",
    "\n",
    "        # Decoder        \n",
    "        self.tran_cnn_layer1 = nn.Sequential(\n",
    "                        nn.ConvTranspose2d(64, 32, kernel_size = 2, stride = 2, padding=0),\n",
    "                        nn.ReLU())\n",
    "        \n",
    "        self.tran_cnn_layer2 = nn.Sequential(\n",
    "                        nn.ConvTranspose2d(32, 16, kernel_size = 2, stride = 2, padding=0),\n",
    "                        nn.ReLU())\n",
    "\n",
    "        self.tran_cnn_layer3 = nn.Sequential(\n",
    "                        nn.ConvTranspose2d(16, 3, kernel_size = 2, stride = 2, padding=0),\n",
    "                        nn.Sigmoid())\n",
    "            \n",
    "            \n",
    "    def forward(self, x):\n",
    "        output = self.cnn_layer1(x)\n",
    "        output = self.cnn_layer2(output)\n",
    "        output = self.cnn_layer3(output)        \n",
    "        output = self.tran_cnn_layer1(output)\n",
    "        output = self.tran_cnn_layer2(output)\n",
    "        output = self.tran_cnn_layer3(output)\n",
    "\n",
    "        return output\n",
    "\n",
    "model = ConvAutoEncoder()\n",
    "model.cuda()"
   ]
  },
  {
   "cell_type": "code",
   "execution_count": 5,
   "id": "ba7150c6",
   "metadata": {},
   "outputs": [],
   "source": [
    "model = ConvAutoEncoder()\n",
    "model.cuda()\n",
    "model.load_state_dict(torch.load(BEST_MODEL_PATH))\n",
    "criterion = nn.MSELoss()"
   ]
  },
  {
   "cell_type": "code",
   "execution_count": 6,
   "id": "d86eecd7",
   "metadata": {},
   "outputs": [],
   "source": [
    "import math\n",
    "    \n",
    "def myEquation4(x):    \n",
    "    normal_err = 0\n",
    "    abnormal_err = 0    \n",
    "    \n",
    "    for i, (X_normal, _) in enumerate(normal_loader):\n",
    "        X_normal = X_normal.cuda()\n",
    "        output = model(X_normal)\n",
    "        loss = criterion(X_normal, output)\n",
    "        \n",
    "        if loss.item() > x:\n",
    "            normal_err += 1\n",
    "        \n",
    "    for i, (X_abnormal, _) in enumerate(abnormal_loader):\n",
    "        X_abnormal = X_abnormal.cuda()\n",
    "        output = model(X_abnormal)\n",
    "        loss = criterion(X_abnormal, output)\n",
    "        \n",
    "        if loss.item() < x:\n",
    "            abnormal_err += 1\n",
    "      \n",
    "    err = ((normal_err/len(normal_loader)) + (abnormal_err/len(abnormal_loader)))/2.0\n",
    "    \n",
    "    return err\n",
    "\n",
    "gr = (math.sqrt(5) + 1) / 2\n",
    "\n",
    "def gss(f, a, b, tol=1e-7):\n",
    "    c = b - (b - a) / gr\n",
    "    d = a + (b - a) / gr\n",
    "    while abs(b - a) > tol:\n",
    "        if f(c) < f(d):\n",
    "            b = d\n",
    "        else:\n",
    "            a = c\n",
    "\n",
    "        # We recompute both c and d here to avoid loss of precision which may lead to incorrect results or infinite loop\n",
    "        c = b - (b - a) / gr\n",
    "        d = a + (b - a) / gr\n",
    "\n",
    "    return (b + a) / 2"
   ]
  },
  {
   "cell_type": "code",
   "execution_count": 7,
   "id": "2c38c2f0",
   "metadata": {},
   "outputs": [
    {
     "name": "stdout",
     "output_type": "stream",
     "text": [
      "Number of abnormal data : 100\n",
      "threshold : 0.0029640071782511424\n",
      "err : 0.0\n",
      "\n",
      "Number of abnormal data : 300\n",
      "threshold : 0.00122346348587603\n",
      "err : 0.0\n",
      "\n",
      "Number of abnormal data : 600\n",
      "threshold : 0.0011584616690250662\n",
      "err : 0.0016666666666666668\n",
      "\n",
      "Number of abnormal data : 900\n",
      "threshold : 0.0011584616690250662\n",
      "err : 0.0011111111111111111\n",
      "\n",
      "Number of abnormal data : 1200\n",
      "threshold : 0.0011584616690250662\n",
      "err : 0.0008333333333333334\n",
      "\n",
      "Number of abnormal data : 1500\n",
      "threshold : 0.0011584616690250662\n",
      "err : 0.0006666666666666666\n",
      "\n"
     ]
    }
   ],
   "source": [
    "for number, dsize in enumerate(data_size, 0):\n",
    "    normal_loader = torch.utils.data.DataLoader(normal_set, batch_size=batch_size, shuffle=True)\n",
    "    abnormal_loader = torch.utils.data.DataLoader(list(abnormal_set)[:dsize], batch_size=batch_size,shuffle=True)\n",
    "    \n",
    "    threshold = gss(myEquation4, 0.0, 0.003)\n",
    "    err = myEquation4(threshold)\n",
    "    print(f\"Number of abnormal data : {dsize}\\nthreshold : {threshold}\\nerr : {err}\\n\")\n",
    "    \n",
    "    with open(f'data/threshold by gss.txt', 'a') as f:\n",
    "        f.write(f'{threshold}\\n')"
   ]
  }
 ],
 "metadata": {
  "kernelspec": {
   "display_name": "Python 3",
   "language": "python",
   "name": "python3"
  },
  "language_info": {
   "codemirror_mode": {
    "name": "ipython",
    "version": 3
   },
   "file_extension": ".py",
   "mimetype": "text/x-python",
   "name": "python",
   "nbconvert_exporter": "python",
   "pygments_lexer": "ipython3",
   "version": "3.8.8"
  }
 },
 "nbformat": 4,
 "nbformat_minor": 5
}
